{
  "nbformat": 4,
  "nbformat_minor": 0,
  "metadata": {
    "colab": {
      "provenance": [],
      "authorship_tag": "ABX9TyOB6v/xpWlVH2uQNvahjGE3",
      "include_colab_link": true
    },
    "kernelspec": {
      "name": "python3",
      "display_name": "Python 3"
    },
    "language_info": {
      "name": "python"
    }
  },
  "cells": [
    {
      "cell_type": "markdown",
      "metadata": {
        "id": "view-in-github",
        "colab_type": "text"
      },
      "source": [
        "<a href=\"https://colab.research.google.com/github/aaycandumluu/aaycandumluu/blob/main/pythonbaslangicdeneme.ipynb\" target=\"_parent\"><img src=\"https://colab.research.google.com/assets/colab-badge.svg\" alt=\"Open In Colab\"/></a>"
      ]
    },
    {
      "cell_type": "code",
      "execution_count": 1,
      "metadata": {
        "id": "M28dKRKyUPkQ"
      },
      "outputs": [],
      "source": [
        "website=\"http://www.sadikturan.com\"\n",
        "course=\"Python Kursu: Baştan Sona Python Programlama Rehberiniz (40 Saat)\""
      ]
    },
    {
      "cell_type": "code",
      "source": [
        "len(course)"
      ],
      "metadata": {
        "colab": {
          "base_uri": "https://localhost:8080/"
        },
        "id": "UWcE77PEUgcI",
        "outputId": "771f3b67-9148-4ca7-96e6-74673fd90bbd"
      },
      "execution_count": 3,
      "outputs": [
        {
          "output_type": "execute_result",
          "data": {
            "text/plain": [
              "65"
            ]
          },
          "metadata": {},
          "execution_count": 3
        }
      ]
    },
    {
      "cell_type": "code",
      "source": [
        "print(website[7:9])"
      ],
      "metadata": {
        "colab": {
          "base_uri": "https://localhost:8080/"
        },
        "id": "kHxUoi8TUzUY",
        "outputId": "45acd6bc-35b3-4835-9dc3-105eb6232bd1"
      },
      "execution_count": 7,
      "outputs": [
        {
          "output_type": "stream",
          "name": "stdout",
          "text": [
            "ww\n"
          ]
        }
      ]
    },
    {
      "cell_type": "code",
      "source": [
        "print(website[-3:])"
      ],
      "metadata": {
        "colab": {
          "base_uri": "https://localhost:8080/"
        },
        "id": "TBu9a8vRVUdp",
        "outputId": "5563bc69-2cb3-4d8f-c3d0-c227d05b96e3"
      },
      "execution_count": 8,
      "outputs": [
        {
          "output_type": "stream",
          "name": "stdout",
          "text": [
            "com\n"
          ]
        }
      ]
    },
    {
      "cell_type": "code",
      "source": [
        "print(course[0:15])"
      ],
      "metadata": {
        "colab": {
          "base_uri": "https://localhost:8080/"
        },
        "id": "bfo_QNXwVfqR",
        "outputId": "b1fb0165-f0c9-43a0-9b7a-1f230288e948"
      },
      "execution_count": 10,
      "outputs": [
        {
          "output_type": "stream",
          "name": "stdout",
          "text": [
            "Python Kursu: B\n"
          ]
        }
      ]
    },
    {
      "cell_type": "code",
      "source": [
        "print(course[len(course)-15:])"
      ],
      "metadata": {
        "colab": {
          "base_uri": "https://localhost:8080/"
        },
        "id": "Q8l3Wo0XVmrB",
        "outputId": "142c9c4d-73ec-4b82-bd4d-dd141bf7d9a6"
      },
      "execution_count": 13,
      "outputs": [
        {
          "output_type": "stream",
          "name": "stdout",
          "text": [
            "riniz (40 Saat)\n"
          ]
        }
      ]
    },
    {
      "cell_type": "code",
      "source": [
        "reversedString=[]\n",
        "index = len(course) # calculate length of string and save in index\n",
        "while index > 0: \n",
        "    reversedString += course[ index - 1 ] # save the value of str[index-1] in reverseString\n",
        "    index = index - 1 # decrement index\n",
        "print(reversedString) # reversed string\n"
      ],
      "metadata": {
        "colab": {
          "base_uri": "https://localhost:8080/"
        },
        "id": "kXz3MikgWvaU",
        "outputId": "b2b18018-66c0-4f71-c96a-935d0a0ab30c"
      },
      "execution_count": 14,
      "outputs": [
        {
          "output_type": "stream",
          "name": "stdout",
          "text": [
            "[')', 't', 'a', 'a', 'S', ' ', '0', '4', '(', ' ', 'z', 'i', 'n', 'i', 'r', 'e', 'b', 'h', 'e', 'R', ' ', 'a', 'm', 'a', 'l', 'm', 'a', 'r', 'g', 'o', 'r', 'P', ' ', 'n', 'o', 'h', 't', 'y', 'P', ' ', 'a', 'n', 'o', 'S', ' ', 'n', 'a', 't', 'ş', 'a', 'B', ' ', ':', 'u', 's', 'r', 'u', 'K', ' ', 'n', 'o', 'h', 't', 'y', 'P']\n"
          ]
        }
      ]
    },
    {
      "cell_type": "code",
      "source": [
        "name, surname, age, job = 'Bora', 'Yılmaz', 32, 'mühendis'\n",
        "print(f'Benim adım {name} {surname}, Yaşım {age} ve mesleğim {job}')"
      ],
      "metadata": {
        "colab": {
          "base_uri": "https://localhost:8080/"
        },
        "id": "nH-80jLFXLRZ",
        "outputId": "9142ff82-b041-4d0f-ed62-8646cb7bef62"
      },
      "execution_count": 16,
      "outputs": [
        {
          "output_type": "stream",
          "name": "stdout",
          "text": [
            "Benim adım Bora Yılmaz, Yaşım 32 ve mesleğim mühendis\n"
          ]
        }
      ]
    }
  ]
}